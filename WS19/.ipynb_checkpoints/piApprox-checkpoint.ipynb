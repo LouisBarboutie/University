{
 "cells": [
  {
   "cell_type": "code",
   "execution_count": 41,
   "id": "a35698f9",
   "metadata": {},
   "outputs": [
    {
     "data": {
      "image/png": "[encoded data removed]",
      "text/plain": [
       "<Figure size 432x288 with 1 Axes>"
      ]
     },
     "metadata": {
      "needs_background": "light"
     },
     "output_type": "display_data"
    },
    {
     "name": "stdout",
     "output_type": "stream",
     "text": [
      "3.1414971543976273\n",
      "3.141592653589793\n",
      "9.549919216578218e-05\n"
     ]
    }
   ],
   "source": [
    "import numpy as np\n",
    "import matplotlib.pyplot as plt\n",
    "\n",
    "N = 10000\n",
    "\n",
    "def function(N):\n",
    "    pi = 0\n",
    "    sum = 0\n",
    "    for i in range(1,N+1):\n",
    "        sum += 1 / (i**2)\n",
    "    sum *= 6\n",
    "    pi = np.sqrt(sum)\n",
    "    \n",
    "    return pi\n",
    "\n",
    "pi = []\n",
    "for i in range (N):\n",
    "    pi.append(function(i))\n",
    "    \n",
    "upperLim = []\n",
    "for i in range(N):\n",
    "    upperLim.append(i)\n",
    "    \n",
    "plt.plot(upperLim,pi)\n",
    "plt.xlabel(\"N\")\n",
    "plt.ylabel(\"Pi approximation\")\n",
    "plt.show()\n",
    "\n",
    "print(pi[N-1])\n",
    "print(np.pi)\n",
    "print(np.pi-pi[N-1])"
   ]
  },
  {
   "cell_type": "code",
   "execution_count": null,
   "id": "816a3c77",
   "metadata": {},
   "outputs": [],
   "source": []
  }
 ],
 "metadata": {
  "kernelspec": {
   "display_name": "Python 3 (ipykernel)",
   "language": "python",
   "name": "python3"
  },
  "language_info": {
   "codemirror_mode": {
    "name": "ipython",
    "version": 3
   },
   "file_extension": ".py",
   "mimetype": "text/x-python",
   "name": "python",
   "nbconvert_exporter": "python",
   "pygments_lexer": "ipython3",
   "version": "3.9.7"
  }
 },
 "nbformat": 4,
 "nbformat_minor": 5
}
