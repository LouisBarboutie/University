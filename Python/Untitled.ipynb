{
 "cells": [
  {
   "cell_type": "code",
   "execution_count": 2,
   "metadata": {},
   "outputs": [
    {
     "ename": "ModuleNotFoundError",
     "evalue": "No module named 'matplotlib'",
     "output_type": "error",
     "traceback": [
      "\u001b[1;31m---------------------------------------------------------------------------\u001b[0m",
      "\u001b[1;31mModuleNotFoundError\u001b[0m                       Traceback (most recent call last)",
      "\u001b[1;32m<ipython-input-2-d5ecacb2d756>\u001b[0m in \u001b[0;36m<module>\u001b[1;34m\u001b[0m\n\u001b[0;32m      1\u001b[0m \u001b[1;31m# import library and set preference\u001b[0m\u001b[1;33m\u001b[0m\u001b[1;33m\u001b[0m\u001b[1;33m\u001b[0m\u001b[0m\n\u001b[1;32m----> 2\u001b[1;33m \u001b[1;32mimport\u001b[0m \u001b[0mmatplotlib\u001b[0m\u001b[1;33m.\u001b[0m\u001b[0mpyplot\u001b[0m \u001b[1;32mas\u001b[0m \u001b[0mplt\u001b[0m\u001b[1;33m\u001b[0m\u001b[1;33m\u001b[0m\u001b[0m\n\u001b[0m\u001b[0;32m      3\u001b[0m \u001b[1;32mimport\u001b[0m \u001b[0mnumpy\u001b[0m \u001b[1;32mas\u001b[0m \u001b[0mnp\u001b[0m\u001b[1;33m\u001b[0m\u001b[1;33m\u001b[0m\u001b[0m\n\u001b[0;32m      4\u001b[0m \u001b[0mnp\u001b[0m\u001b[1;33m.\u001b[0m\u001b[0mseterr\u001b[0m\u001b[1;33m(\u001b[0m\u001b[0mdivide\u001b[0m\u001b[1;33m=\u001b[0m \u001b[1;34m'ignore'\u001b[0m\u001b[1;33m,\u001b[0m \u001b[0minvalid\u001b[0m\u001b[1;33m=\u001b[0m\u001b[1;34m'ignore'\u001b[0m\u001b[1;33m)\u001b[0m\u001b[1;33m\u001b[0m\u001b[1;33m\u001b[0m\u001b[0m\n\u001b[0;32m      5\u001b[0m \u001b[1;33m\u001b[0m\u001b[0m\n",
      "\u001b[1;31mModuleNotFoundError\u001b[0m: No module named 'matplotlib'"
     ]
    }
   ],
   "source": [
    "# import library and set preference\n",
    "import matplotlib.pyplot as plt\n",
    "import numpy as np\n",
    "np.seterr(divide= 'ignore', invalid='ignore')\n",
    "\n",
    "# blyatiful constants\n",
    "EPSILON = 8.854187817 * 10 ** -12\n",
    "Q = +1\n",
    "\n",
    "# gibMe some inputs\n",
    "a = 5\n",
    "a0 = 0\n",
    "\n",
    "# quantity of arrows in x and y\n",
    "spreadModifier = 1000\n",
    "sizeModifier = 11\n",
    "\n",
    "# gridmesh time\n",
    "hellOo = np.arange(-sizeModifier, sizeModifier, .05)\n",
    "x, y = np.meshgrid(hellOo, hellOo)\n",
    "\n",
    "# getting Ex and Ey\n",
    "subOne = np.power(np.sqrt(np.power((x-a), 2) + np.power((y-a0), 2)))\n",
    "subTwo = np.power(np.sqrt(np.power((x+a), 2) + np.power((y-a0), 2)))\n",
    "Ex = Q / (4*3.14*EPSILON) * (((x-a) / subOne) - ((x+a) / subTwo))\n",
    "Ey = Q / (4*3.14*EPSILON) * ((y / subOne) - (y / subTwo))\n",
    "\n",
    "# ain't nobody got time fo dat\n",
    "fig, ax = plt.subplots(figsize=(sizeModifier, sizeModifier))\n",
    "ax.streamplot(x, y, Ex, Ey, color='y')\n",
    "\n",
    "ax.set_aspect(\"equal\")\n",
    "ax.plot(-5, 0, \"-ob\")\n",
    "ax.plot(5, 0, \"-or\")\n",
    "ax.set_title(\"Elektrische Feldlinien\")\n",
    "plt.show()\n"
   ]
  },
  {
   "cell_type": "code",
   "execution_count": null,
   "metadata": {},
   "outputs": [],
   "source": []
  }
 ],
 "metadata": {
  "kernelspec": {
   "display_name": "Python 3",
   "language": "python",
   "name": "python3"
  },
  "language_info": {
   "codemirror_mode": {
    "name": "ipython",
    "version": 3
   },
   "file_extension": ".py",
   "mimetype": "text/x-python",
   "name": "python",
   "nbconvert_exporter": "python",
   "pygments_lexer": "ipython3",
   "version": "3.7.5"
  }
 },
 "nbformat": 4,
 "nbformat_minor": 2
}
