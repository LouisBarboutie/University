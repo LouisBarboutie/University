{
 "cells": [
  {
   "cell_type": "markdown",
   "id": "b2067c0b",
   "metadata": {},
   "source": [
    "# 01: Basic C Program Examples and Exercises"
   ]
  },
  {
   "cell_type": "code",
   "execution_count": 10,
   "id": "eba90056",
   "metadata": {},
   "outputs": [
    {
     "name": "stdout",
     "output_type": "stream",
     "text": [
      "Hello World\n"
     ]
    },
    {
     "data": {
      "text/plain": [
       "0"
      ]
     },
     "execution_count": 10,
     "metadata": {},
     "output_type": "execute_result"
    }
   ],
   "source": [
    "//C programs typically include header files which help the compiler to find library code.\n",
    "//The core C language is very small.\n",
    "//The below headers are needed for almost any real program:\n",
    "#include <stdio.h>     //input and output to file or screen\n",
    "#include <stdlib.h>    //standard.... library...\n",
    "#include <string.h>    //strings: manage character strings.\n",
    "#include <math.h>      //maths: sin(), cos(), exp() etc\n",
    "\n",
    "//by convention any C program has a function called \"main()\" where execution starts.\n",
    "int main( void ){\n",
    "    printf(\"Hello World\\n\");\n",
    "    return( EXIT_SUCCESS );   //This is a special code defined in stdlib.h : universally EXIT_SUCCESS := 0.\n",
    "}\n",
    "\n",
    "//because we are working in an interactive environment, instead of saving the code, compiling it, and running\n",
    "//the executable, we can just call main()\n",
    "main()"
   ]
  },
  {
   "cell_type": "markdown",
   "id": "491e8801",
   "metadata": {},
   "source": [
    "## Pointers and Arrays\n",
    "\n",
    "A **pointer** in C is a special variable which contains an address in memory.  The datatypes for pointers are determined by what they are pointing to.\n",
    "\n",
    "Pointers are useful for handling memory management and creating complex data structures.\n",
    "\n",
    "The syntax for pointers has two special characters:\n",
    "\n",
    "**\\*** : Loosely, in English you could say this means \"value at\".\n",
    "\n",
    "**\\&** : Loosely, in English you could say this means \"address of\".\n"
   ]
  },
  {
   "cell_type": "code",
   "execution_count": 11,
   "id": "bad2051a",
   "metadata": {},
   "outputs": [
    {
     "name": "stdout",
     "output_type": "stream",
     "text": [
      "Base of Array of Arrays of pointers is at: 0x7fffdc817090.\n",
      "  Base of 0th Array of pointers is at: 0x7fffdcb8f460.\n",
      "   Element 0 0, value 0.0 is at: 0x7fffdcb8f460.\n",
      "   Element 0 1, value 1.0 is at: 0x7fffdcb8f468.\n",
      "   Element 0 2, value 2.0 is at: 0x7fffdcb8f470.\n",
      "   Element 0 3, value 3.0 is at: 0x7fffdcb8f478.\n",
      "   Element 0 4, value 4.0 is at: 0x7fffdcb8f480.\n",
      "  Base of 1th Array of pointers is at: 0x7fffdc8b3730.\n",
      "   Element 1 0, value 5.0 is at: 0x7fffdc8b3730.\n",
      "   Element 1 1, value 6.0 is at: 0x7fffdc8b3738.\n",
      "   Element 1 2, value 7.0 is at: 0x7fffdc8b3740.\n",
      "   Element 1 3, value 8.0 is at: 0x7fffdc8b3748.\n",
      "   Element 1 4, value 9.0 is at: 0x7fffdc8b3750.\n",
      "  Base of 2th Array of pointers is at: 0x7fffdcc77fb0.\n",
      "   Element 2 0, value 10.0 is at: 0x7fffdcc77fb0.\n",
      "   Element 2 1, value 11.0 is at: 0x7fffdcc77fb8.\n",
      "   Element 2 2, value 12.0 is at: 0x7fffdcc77fc0.\n",
      "   Element 2 3, value 13.0 is at: 0x7fffdcc77fc8.\n",
      "   Element 2 4, value 14.0 is at: 0x7fffdcc77fd0.\n"
     ]
    }
   ],
   "source": [
    "// To be lazy, I am going to allow context (include files etc)\n",
    "// to carry on from the previous cell, and just redefine main.\n",
    "\n",
    "int main(void){\n",
    "    \n",
    "    double **arrayOfArrays;  //\"the value at the value at \"arrayOfArrays\" is a double precision number.\n",
    "    int N = 3;               //let N be an integer of value 3.\n",
    "    int M = 5;               \n",
    "    int i, j;\n",
    "    \n",
    "    //set the \"base\" pointer-to-pointer to some clear memory, enough for N pointers-to-double.\n",
    "    arrayOfArrays = (double **)malloc( N*sizeof(double *) );\n",
    "    \n",
    "    //allocate each pointer-to-double to have enough space for M doubles\n",
    "    for(i = 0; i < N; i++){\n",
    "        arrayOfArrays[i] = (double *)malloc( M*sizeof(double) );\n",
    "    }\n",
    "    \n",
    "    //great, we have defined an array of N 1D arrays each of size M.\n",
    "    for( i = 0; i < N; i++){\n",
    "        for( j = 0; j < M; j++){\n",
    "            arrayOfArrays[i][j] = (double)(i * M + j); //just put a unique number in each box\n",
    "        }\n",
    "    }\n",
    "    \n",
    "    //print it all out to check\n",
    "    printf(\"Base of Array of Arrays of pointers is at: %p.\\n\", arrayOfArrays);\n",
    "    for( i = 0; i < N; i++){\n",
    "        printf(\"  Base of %ith Array of pointers is at: %p.\\n\", i, arrayOfArrays[i]);\n",
    "        for( j = 0; j < M; j++){\n",
    "           //here we use the \"address of\" operator, \"&\"\n",
    "           printf(\"   Element %i %i, value %.1f is at: %p.\\n\", \n",
    "                      i,j, arrayOfArrays[i][j], &arrayOfArrays[i][j]);\n",
    "        }\n",
    "    }\n",
    "    \n",
    "    //polite to clear everything up when finished\n",
    "    for( i = 0; i < N; i++)\n",
    "        free(arrayOfArrays[i]);\n",
    "    free(arrayOfArrays);\n",
    "    \n",
    "}\n",
    "\n",
    "main();"
   ]
  },
  {
   "cell_type": "markdown",
   "id": "23eda756",
   "metadata": {},
   "source": [
    "## 2D array as a block.\n",
    "\n",
    "An alternative to having a 2-level structure, an array of arrays, is just to allocate a 1D array and remember where everything is.  There is an efficiency advantage to having data stored together in a block, for loading into cache etc, so this is what I end up doing for practical codes where I happen to need a rectangular 2D or 3D array.\n"
   ]
  },
  {
   "cell_type": "code",
   "execution_count": 12,
   "id": "477c38e6",
   "metadata": {},
   "outputs": [
    {
     "name": "stdout",
     "output_type": "stream",
     "text": [
      "Base of Array is at: 0x7fffdcbb4c60.\n",
      "   Element 0 0, value 0.0 is at: 0x7fffdcbb4c60.\n",
      "   Element 0 1, value 1.0 is at: 0x7fffdcbb4c68.\n",
      "   Element 0 2, value 2.0 is at: 0x7fffdcbb4c70.\n",
      "   Element 0 3, value 3.0 is at: 0x7fffdcbb4c78.\n",
      "   Element 0 4, value 4.0 is at: 0x7fffdcbb4c80.\n",
      "   Element 1 0, value 5.0 is at: 0x7fffdcbb4c88.\n",
      "   Element 1 1, value 6.0 is at: 0x7fffdcbb4c90.\n",
      "   Element 1 2, value 7.0 is at: 0x7fffdcbb4c98.\n",
      "   Element 1 3, value 8.0 is at: 0x7fffdcbb4ca0.\n",
      "   Element 1 4, value 9.0 is at: 0x7fffdcbb4ca8.\n",
      "   Element 2 0, value 10.0 is at: 0x7fffdcbb4cb0.\n",
      "   Element 2 1, value 11.0 is at: 0x7fffdcbb4cb8.\n",
      "   Element 2 2, value 12.0 is at: 0x7fffdcbb4cc0.\n",
      "   Element 2 3, value 13.0 is at: 0x7fffdcbb4cc8.\n",
      "   Element 2 4, value 14.0 is at: 0x7fffdcbb4cd0.\n"
     ]
    },
    {
     "data": {
      "text/plain": [
       "0"
      ]
     },
     "execution_count": 12,
     "metadata": {},
     "output_type": "execute_result"
    }
   ],
   "source": [
    "\n",
    "int main(void){\n",
    "    double *blockArray;   \n",
    "    int N = 3;               //let N be an integer of value 3.\n",
    "    int M = 5;               \n",
    "    int i, j;\n",
    "    \n",
    "    blockArray = (double *)malloc(N*M*sizeof(double));\n",
    "    //great, we have defined an array of size N*M\n",
    "    \n",
    "    for( i = 0; i < N; i++){\n",
    "        for( j = 0; j < M; j++){\n",
    "            blockArray[i*M+j] = (double)(i * M + j); //just put a unique number in each box\n",
    "        }\n",
    "    }\n",
    "    \n",
    "    //print it all out to check\n",
    "    printf(\"Base of Array is at: %p.\\n\", blockArray);\n",
    "    for( i = 0; i < N; i++){\n",
    "        for( j = 0; j < M; j++){\n",
    "           //here we use the \"address of\" operator, \"&\"\n",
    "           printf(\"   Element %i %i, value %.1f is at: %p.\\n\", \n",
    "                      i,j, blockArray[i*M+j], &blockArray[i*M+j]);\n",
    "        }\n",
    "    }\n",
    "    \n",
    "    //cleaning up is easier with a 1-level structure.\n",
    "    free(blockArray);\n",
    "    \n",
    "}\n",
    "\n",
    "main()"
   ]
  },
  {
   "cell_type": "markdown",
   "id": "d67a5e06",
   "metadata": {},
   "source": [
    "## Safe Allocation\n",
    "\n",
    "If malloc fails to secure enough memory, it will return a **NULL** (NULL is just zero, but with datatype as a pointer rather than as an integer or a double). Rather than have an error arrive later, when you try to write to NULL; it is better to sytematically check that the malloc worked, and raise an error.\n",
    "\n",
    "Update: in my notebook, malloc crashes when I ask for too much memory, instead of returning **NULL** as it should, so this function doesn't work.  I want to teach C programming as if you were seriously writing a program instead of just playing in an interactive environment, so please take note of the principle!"
   ]
  },
  {
   "cell_type": "code",
   "execution_count": 3,
   "id": "9352ec10",
   "metadata": {},
   "outputs": [
    {
     "name": "stdout",
     "output_type": "stream",
     "text": [
      "safely allocated 0x7fffe1ffae40\n"
     ]
    }
   ],
   "source": [
    "void *smalloc(  size_t n_bytes, const char* message ){\n",
    "    /*\n",
    "    This function is supposed to be a safer version of malloc.\n",
    "    \n",
    "    The datatype \"void *\" means a pointer to anything, pretty much.\n",
    "    \n",
    "    */\n",
    "    void *ptr;\n",
    "    ptr = malloc( n_bytes );\n",
    "    if( ptr == NULL ){\n",
    "        if( message != NULL ){\n",
    "            //\"stderr\" is a special output handle defined by the OS which is supposed to display errors.\n",
    "            fprintf(stderr, \"%s\\n\", message);\n",
    "        }else{\n",
    "            fprintf(stderr, \"Out of memory\\n\");\n",
    "        }\n",
    "    }\n",
    "    return ptr;\n",
    "}\n",
    "\n",
    "\n",
    "void *p;\n",
    "p = smalloc(999, \"checking?\");\n",
    "printf(\"safely allocated %p\\n\", p);"
   ]
  },
  {
   "cell_type": "code",
   "execution_count": 4,
   "id": "7a38bad6",
   "metadata": {},
   "outputs": [
    {
     "data": {
      "text/plain": [
       "0"
      ]
     },
     "execution_count": 4,
     "metadata": {},
     "output_type": "execute_result"
    }
   ],
   "source": [
    "\n",
    "int main(void){\n",
    "    \n",
    "    double *blockArray;   \n",
    "    long int N = 3;               \n",
    "    long int M = 5;               \n",
    "    int i, j;\n",
    "    \n",
    "    blockArray = (double *)smalloc(N*M*sizeof(double), \"block array allocation\");\n",
    "    free(blockArray);\n",
    "    \n",
    "}\n",
    "\n",
    "main();\n",
    "\n"
   ]
  },
  {
   "cell_type": "markdown",
   "id": "469c47ed",
   "metadata": {},
   "source": [
    "## Assignment, week 01 : Pascale's Triangle\n",
    "\n",
    "To get some practice allocating memory and formatting output, I would like you to write a program that takes an integer argument (call in the notebook as e.g. *main( 4 )*), allocates enough memory to make a Pascale's triangle of the number of rows specified, builds the triangle in memory, prints it out, and then frees the memory again.\n",
    "\n",
    "Output to screen (eg for N=5) should be formatted to preserve the triangle structure, looking something like this:\n",
    "\n",
    "              1\n",
    "             1 1\n",
    "            1 2 1\n",
    "           1 3 3 1\n",
    "          1 4 6 4 1\n",
    "          \n",
    "For 100% marks you should deal nicely with 2,3,N-digit numbers, so that for example if a 2-digit number is present then there is a correct amount of space padding for all the 1-digit numbers, \" 1\" instead of just \"1\".\n",
    "          \n",
    "Obviously for large N, having one line of output per triangle row is going to become impossible, don't worry about that, I don't see any way to nicely present an N=1000 triangle in the terminal window myself.  \n",
    "\n",
    "When you have finished, upload your notebook to moodle with a filename something like: 01_YOUR_NAME.ipynb."
   ]
  }
 ],
 "metadata": {
  "kernelspec": {
   "display_name": "C++11",
   "language": "C++11",
   "name": "xcpp11"
  },
  "language_info": {
   "codemirror_mode": "text/x-c++src",
   "file_extension": ".cpp",
   "mimetype": "text/x-c++src",
   "name": "c++",
   "version": "11"
  }
 },
 "nbformat": 4,
 "nbformat_minor": 5
}
