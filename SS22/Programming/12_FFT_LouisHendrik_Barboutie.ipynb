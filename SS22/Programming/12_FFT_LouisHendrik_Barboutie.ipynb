{
 "cells": [
  {
   "cell_type": "markdown",
   "id": "fe11bd98",
   "metadata": {},
   "source": [
    "# 12 : Fast Fourier Transform\n",
    "\n",
    "This week I am going to ask you to set up an efficient implementation of the Fourier transform, one of the classic algorithms that is essential for a lot of physics data processing and simulation.  This is the kind of thing that computer scientists are very proud of, a 'Divide and Conquer' algorithm which somehow makes the problem much easier by studying in sub-sections and then bringing the results from the parts together again.  Wikipedia tells me it was invented by Gauss, and then re-invented by a couple of nuclear physicists working for the American govt, one of whom didn't actually know the application of his project.\n",
    "\n",
    "The standard discrete Fourier transform (in 1D) is defined as:\n",
    "\n",
    "$$\n",
    "F(k) = \\sum_{i=0..N-1} f(x_i) \\exp \\left(  - \\frac{2\\pi j}{N} ki\\right)\n",
    "$$\n",
    "\n",
    "Where I will write $i$ as a summation index, $j$ as $\\sqrt{-1}$.  $k$ is the index of values in Fourier space, called the *wavenumber*.\n",
    "\n",
    "Every point in Fourier space at a given $k$ contains information about oscillations with a period $2\\pi / k$ in the direct space, thus the point at $k=0$ is just the sum of values over $f()$, the point at $k=1$ describes oscillations of the longest period compatible with the boundary conditions, etc.\n",
    "\n",
    "The output of a Fourier transform (and, optionally, the input) is complex-valued: points have both amplitude and phase.\n",
    "\n",
    "To carry out a DFT na\\\"ively requires $\\mathcal{O}(N^2)$ operations: one sum over $N$ for each $k$-point.  Unacceptable!  We use the Cooley-Tukey Fast Fourier Transform algorithm to reduce this to $\\mathcal{O}(N \\log N)$.  The basis of the Cooley-Tukey algorithm is to realise that the complex exponential is periodic, so there is no need to re-evaluate every term of the sum over $i$ from scratch at every $k$-point. [ https://en.wikipedia.org/wiki/Cooley–Tukey_FFT_algorithm ].  This exploitation of periodicity only works, obviously, if points are evenly spaced.\n",
    "\n",
    "I'll reproduce the pseudocode from wikipedia, here (give or take some trivial reformatting):\n"
   ]
  },
  {
   "cell_type": "markdown",
   "id": "aedeca17",
   "metadata": {},
   "source": [
    "## Radix-2 Cooley-Tukey FFT\n",
    "\n",
    "fft2(*input array* f, *output array* F, *integer* N, *integer* s):  \n",
    "1&nbsp;&nbsp;&nbsp;&nbsp;**if** N == 1 :<br />\n",
    "2&nbsp;&nbsp;&nbsp;&nbsp;&nbsp;&nbsp;&nbsp;&nbsp;F[0] = f[0]<br />\n",
    "3&nbsp;&nbsp;&nbsp;&nbsp;&nbsp;&nbsp;&nbsp;&nbsp; **return**  \n",
    "4&nbsp;&nbsp;&nbsp;&nbsp;fft2(f,F,N/2,2s);  \n",
    "5&nbsp;&nbsp;&nbsp;&nbsp;fft2(f+s,F+N/2,N/2,2s);  \n",
    "6&nbsp;&nbsp;&nbsp;&nbsp;**for** k=0 to N/2-1 **do**: !!comment: *0 to N/2-1 inclusive*<br />\n",
    "7&nbsp;&nbsp;&nbsp;&nbsp;&nbsp;&nbsp;&nbsp;&nbsp;p $\\leftarrow$ F[k]<br />\n",
    "8&nbsp;&nbsp;&nbsp;&nbsp;&nbsp;&nbsp;&nbsp;&nbsp;q $\\leftarrow$ $e^{-k 2\\pi j/N}$ F[k+N/2]<br />\n",
    "9&nbsp;&nbsp;&nbsp;&nbsp;&nbsp;&nbsp;&nbsp;&nbsp;F[k]$\\leftarrow$ p + q <br />\n",
    "10&nbsp;&nbsp;&nbsp;&nbsp;&nbsp;&nbsp;F[k+N/2]$\\leftarrow$ p - q <br />\n",
    "**return**\n",
    "\n",
    "*to evaluate the function, start with $N=$number of points, $s=$1:*<br />\n",
    "fft2(f, F, N, 1)\n"
   ]
  },
  {
   "cell_type": "markdown",
   "id": "2b444ac6",
   "metadata": {},
   "source": [
    "To talk through this algorithm, the first thing to notice is that it is defined recursively: the function calls itself (lines $4,5$).  This is quite neat, although not especially efficient to implement in C, as function calls are a computational overhead.  Recursive algorithms can in general be rewritten as iterative algorithms, however the Cooley-Tukey is *sooo* neat in its recursive statement that we will stick to this format.\n",
    "\n",
    "On line $1$ we give the recursion a chance to bottom out: when the function is called on the smallest meaningful domain size, $N=1$, it returns directly.  On lines $4,5$, we recursively call the function with the 'step' set to twice it's previous value, so on the first level of the recursion we are splitting $x$ into even and odd indexed subsections of the array, and putting the outputs into the first and second halves of $X$ respectively.  When you implement this you can use some C idom to pass addresses of arrays with an offest, i.e. $\\&(x[1])$ should pass the address of the array $x$ but starting at element 1.  You can also just use pointer arithmetic, and pass $x+1$: this is not adding 1 to the values of everything in $x$, it is moving the pointer $x$ along by one element. \n",
    "\n",
    "When the recursion returns, the for loop (lines $6..10$) collects information from the sub-sections of the input data and combines them using the symmetry of the complex exponential (basically just $\\sin(-x)=-\\sin(x)$, and $\\cos(-x)=\\cos(x)$). \n",
    "\n",
    "The algorithm as stated above doesn't know anything about the scales in direct or wavenumber space: we get a list of input values $f[0], f[1]... f[N-1]$ and it is implicitly assumed that they correspond to equally spaced points in direct space, something like $d=L/N$  $x=[-L/2,-L/2+d,-L/2+2d...\\mathbf{0}...L/2-d]$. \n",
    "\n",
    "Having run this FFT algorithm and looked at the ouputs, it seems like these appear in wavenumber space $F[0],F[1]...F[N-1]$ with values of $k=[0,1,2,...N/2-1,\\mathbf{N/2},1-N/2,2-N/2,3-N/2...-1]$.  Positive and negative $k$ values should be symmetrical if the input is real-valued, the order that they appear in the output array is determined by the particular FFT algorithm, or else by convention.  It is quite common to have the zero in the centre so that symmetry is more obvious when plotting, however from a quick look at this algorithm it seems to me that the k-values are packed here in the way I've just noted down. \n",
    "\n",
    "To really understand this, probably you should run through with a pencil to find the FFT of $\\sin(2\\pi x)$, evaluated at four points in direct space only: (x[0]=-0.5,x[1]=-0.25,x[2]=0,x[3]=0.25).  This is a simple waveform with a number $k=1$, so you expect a peak in the FFT at the 1st (not the 0th) value.  By symmetry you should also see a peak in the 3rd k-value.  \n",
    "\n",
    "\n",
    "Note that this algorithm as presented works only for arrays sized as powers of 2, it isn't hard to generalise however we are trying to keep the code simple today.\n"
   ]
  },
  {
   "cell_type": "markdown",
   "id": "b009a094",
   "metadata": {},
   "source": [
    "## Complex arithmetic in C\n",
    "\n",
    "As the FFT in general generates complex numbers I am going to introduce some datatypes for working with them.\n",
    "\n",
    "These days there are solid implementations available in header files and libraries somewhere, but to save downloading things I am just implementing this stuff myself.\n",
    "\n",
    "There is efficient library code for doing fft, I should probably tell you, called \"FFTW3\" (Fastest Fourier Transform in the West, 3).  If you are developing a large scale software project you would probably just use this, but it is too big and complex to be messing around with for a small project: it is still worth knowing how to code your own."
   ]
  },
  {
   "cell_type": "code",
   "execution_count": 1,
   "id": "17fc2fec",
   "metadata": {},
   "outputs": [],
   "source": [
    "#include <stdio.h>\n",
    "#include <math.h>\n",
    "\n",
    "//define CPLX_DBL_T , a datatype to hold complex double precision numbers.\n",
    "typedef struct cplx_dbl_t {\n",
    "    double r; //real part\n",
    "    double i; //imaginary part\n",
    "} CPLX_DBL_T;"
   ]
  },
  {
   "cell_type": "code",
   "execution_count": 2,
   "id": "898430ad",
   "metadata": {},
   "outputs": [],
   "source": [
    "/* calculate the complex exponential of a real number w\n",
    "       via Euler's formula : exp(i w) = cos(w) + i sin(w)*/\n",
    "\n",
    "CPLX_DBL_T cplx_dbl_exp( double w ){\n",
    "    \n",
    "    CPLX_DBL_T y;\n",
    "    y.r = cos( w );\n",
    "    y.i = sin( w );\n",
    "    return( y );\n",
    "}"
   ]
  },
  {
   "cell_type": "code",
   "execution_count": 3,
   "id": "4f7e237d",
   "metadata": {},
   "outputs": [
    {
     "name": "stdout",
     "output_type": "stream",
     "text": [
      "exp 0pi/2 (= 0.00) : +1.00 +0.00j\n",
      "exp 1pi/2 (= 1.57) : +0.00 +1.00j\n",
      "exp 2pi/2 (= 3.14) : -1.00 +0.00j\n",
      "exp 3pi/2 (= 4.71) : -0.00 -1.00j\n",
      "exp 4pi/2 (= 6.28) : +1.00 -0.00j\n"
     ]
    }
   ],
   "source": [
    "/* quick test of complex exponential */\n",
    "void test_exp(){\n",
    "    CPLX_DBL_T y;\n",
    "    double     w;\n",
    "    int        k;\n",
    "    \n",
    "    for( k = 0; k <= 4; k++ ){\n",
    "        w = k * M_PI / 2.0;\n",
    "        y = cplx_dbl_exp( w );\n",
    "        //nice tidy printf statement, the \"%+\" means \"always show sign\".\n",
    "        printf(\"exp %ipi/2 (= %.2f) : %+.2f %+.2fj\\n\", k, w, y.r, y.i);\n",
    "    }\n",
    "}\n",
    "test_exp();"
   ]
  },
  {
   "cell_type": "code",
   "execution_count": 4,
   "id": "52276ab9",
   "metadata": {},
   "outputs": [],
   "source": [
    "//while I'm here I might as well write add, subtract and multiply for you:\n",
    "CPLX_DBL_T cplx_dbl_add( CPLX_DBL_T a, CPLX_DBL_T b ){\n",
    "    CPLX_DBL_T y;\n",
    "    y.r = a.r + b.r;\n",
    "    y.i = a.i + b.i;\n",
    "    return( y );\n",
    "}"
   ]
  },
  {
   "cell_type": "code",
   "execution_count": 5,
   "id": "e2a8dfd3",
   "metadata": {},
   "outputs": [],
   "source": [
    "CPLX_DBL_T cplx_dbl_sub( CPLX_DBL_T a, CPLX_DBL_T b ){\n",
    "    CPLX_DBL_T y;\n",
    "    y.r = a.r - b.r;\n",
    "    y.i = a.i - b.i;\n",
    "    return( y );\n",
    "}"
   ]
  },
  {
   "cell_type": "code",
   "execution_count": 6,
   "id": "430f48bf",
   "metadata": {},
   "outputs": [],
   "source": [
    "CPLX_DBL_T cplx_dbl_mul( CPLX_DBL_T a, CPLX_DBL_T b ){\n",
    "    CPLX_DBL_T y;\n",
    "    y.r = a.r*b.r - a.i*b.i;\n",
    "    y.i = a.r*b.i + a.i*b.r;\n",
    "    return( y );\n",
    "}"
   ]
  },
  {
   "cell_type": "markdown",
   "id": "fa58d92b",
   "metadata": {},
   "source": [
    "## Assignment: FFT\n",
    "\n",
    "Your assignment today is to implement a code which can:\n",
    "\n",
    "1) Load a data file, with two doubles per line (real and imaginary components) into an array of type CPLX_DBL_T. Recall the functions fopen(), fscanf(), fclose().\n",
    "\n",
    "2) Carry out a radix-2 fft based on the pseudocode above.\n",
    "\n",
    "3) Write the output as a data file with the same format as the inputs (recall the function fprintf()).\n",
    "\n",
    "I've supplied an example data file for you to test your code.\n"
   ]
  },
  {
   "cell_type": "code",
   "execution_count": 7,
   "id": "6ebfca92",
   "metadata": {},
   "outputs": [],
   "source": [
    "#include <stdio.h>     //input and output to file or screen\n",
    "#include <stdlib.h>    //standard.... library...\n",
    "#include <iostream>\n",
    "\n",
    "CPLX_DBL_T *get_data(void){\n",
    "    FILE *f; // pointer to the file\n",
    "    double rePart, imPart; // buffer for reading\n",
    "    CPLX_DBL_T *data; // array of data points\n",
    "    int N = 64; // amount of points\n",
    "    int i;\n",
    "    \n",
    "    // array to store data points: y values in equidistant nodes \n",
    "    data = (CPLX_DBL_T *)malloc(N*sizeof(CPLX_DBL_T));\n",
    "    \n",
    "    // open the file\n",
    "    f = fopen(\"test_data_64.txt\", \"r\");\n",
    "    \n",
    "    // get the real and imaginary part from each column\n",
    "    i = 0; // counter\n",
    "    while (fscanf(f, \"%lf %lf\", &rePart, &imPart) == 2){\n",
    "        data[i].r = rePart;\n",
    "        data[i].i = imPart;\n",
    "        // printf(\"real part: %+.4lf | imaginary part: %+.4lf\\n\", data[i].r, data[i].i);\n",
    "        i += 1;\n",
    "    }\n",
    "    // printf(\"%i\",i);\n",
    "    \n",
    "    // close the file\n",
    "    fclose(f);\n",
    "    \n",
    "    return( data );\n",
    "}"
   ]
  },
  {
   "cell_type": "code",
   "execution_count": 8,
   "id": "a67d251e",
   "metadata": {},
   "outputs": [],
   "source": [
    "void FFT(CPLX_DBL_T *data, CPLX_DBL_T *results, int N, int s){\n",
    "    \n",
    "    CPLX_DBL_T p, q;\n",
    "    \n",
    "    if(N == 1){\n",
    "        results[0] = data[0];\n",
    "        return;\n",
    "    }\n",
    "    FFT(data,     results,         N / 2, 2 * s);\n",
    "    FFT(data + s, results + N / 2, N / 2, 2 * s);\n",
    "    for(int k = 0; k < N/2; k++){\n",
    "        p = results[k];\n",
    "        q = cplx_dbl_mul(cplx_dbl_exp(- k * 2 * M_PI / N) , results[k + N / 2]);\n",
    "        results[k] = cplx_dbl_add(p,q);\n",
    "        results[k+N/2] = cplx_dbl_sub(p,q);\n",
    "    }\n",
    "    return;\n",
    "}"
   ]
  },
  {
   "cell_type": "code",
   "execution_count": 9,
   "id": "203e0aa1",
   "metadata": {},
   "outputs": [],
   "source": [
    "#include <stdio.h>     //input and output to file or screen\n",
    "#include <stdlib.h>    //standard.... library...\n",
    "#include <iostream>\n",
    "\n",
    "void print2file(CPLX_DBL_T *results){\n",
    "    FILE *f;\n",
    "    int i;\n",
    "    f = fopen(\"res_data_64.csv\", \"w\"); // csv files are easier to plot in excel and qtiPlot\n",
    "    \n",
    "    for(i = 0; i < 65; i++){\n",
    "        fprintf(f, \"%lf, %lf\\n\", results[i].r, results[i].i);\n",
    "    }\n",
    "    \n",
    "    fclose(f);\n",
    "    return( EXIT_SUCCESS);\n",
    "}"
   ]
  },
  {
   "cell_type": "code",
   "execution_count": 10,
   "id": "7aded3a7",
   "metadata": {},
   "outputs": [],
   "source": [
    "int main(){\n",
    "    CPLX_DBL_T *data, *results;\n",
    "    int N = 64;\n",
    "    int s = 1;\n",
    "    \n",
    "    data = (CPLX_DBL_T *)malloc(N*sizeof(CPLX_DBL_T));\n",
    "    results = (CPLX_DBL_T *)malloc(N*sizeof(CPLX_DBL_T));\n",
    "    \n",
    "    data = get_data();\n",
    "    \n",
    "    FFT( data, results, N, s);\n",
    "    \n",
    "    for(int i = 0; i < 64; i++){\n",
    "        printf(\"real part: %+.4lf | imaginary part: %+.4lf\\n\", results[i].r, results[i].i);\n",
    "    } \n",
    "    print2file(results);\n",
    "    free(results);\n",
    "    free(data);\n",
    "    return( EXIT_SUCCESS);\n",
    "}"
   ]
  },
  {
   "cell_type": "code",
   "execution_count": 11,
   "id": "db69291e",
   "metadata": {},
   "outputs": [
    {
     "name": "stdout",
     "output_type": "stream",
     "text": [
      "real part: +0.0000 | imaginary part: +0.0000\n",
      "real part: -0.0001 | imaginary part: -32.0002\n",
      "real part: -0.0001 | imaginary part: -32.0002\n",
      "real part: +0.0001 | imaginary part: +0.0001\n",
      "real part: +0.0000 | imaginary part: -0.0003\n",
      "real part: +0.0000 | imaginary part: -0.0003\n",
      "real part: +0.0002 | imaginary part: -0.0001\n",
      "real part: +0.0000 | imaginary part: -0.0001\n",
      "real part: -0.0001 | imaginary part: +0.0000\n",
      "real part: +0.0000 | imaginary part: +0.0002\n",
      "real part: -0.0001 | imaginary part: -0.0002\n",
      "real part: -0.0002 | imaginary part: -0.0001\n",
      "real part: +0.0000 | imaginary part: +0.0000\n",
      "real part: -0.0000 | imaginary part: +0.0001\n",
      "real part: -0.0000 | imaginary part: -0.0001\n",
      "real part: +0.0002 | imaginary part: +0.0002\n",
      "real part: +0.0001 | imaginary part: +0.0001\n",
      "real part: -0.0000 | imaginary part: +0.0001\n",
      "real part: +0.0001 | imaginary part: -0.0001\n",
      "real part: -0.0000 | imaginary part: +0.0000\n",
      "real part: -0.0002 | imaginary part: +0.0002\n",
      "real part: -0.0000 | imaginary part: +0.0001\n",
      "real part: -0.0001 | imaginary part: +0.0002\n",
      "real part: -0.0002 | imaginary part: -0.0001\n",
      "real part: +0.0001 | imaginary part: -0.0002\n",
      "real part: +0.0001 | imaginary part: +0.0001\n",
      "real part: -0.0000 | imaginary part: +0.0001\n",
      "real part: +0.0002 | imaginary part: +0.0001\n",
      "real part: +0.0001 | imaginary part: -0.0002\n",
      "real part: -0.0001 | imaginary part: +0.0000\n",
      "real part: +0.0000 | imaginary part: -0.0004\n",
      "real part: -0.0000 | imaginary part: -0.0000\n",
      "real part: -0.0002 | imaginary part: +0.0000\n",
      "real part: -0.0000 | imaginary part: +0.0000\n",
      "real part: +0.0000 | imaginary part: +0.0004\n",
      "real part: -0.0001 | imaginary part: -0.0000\n",
      "real part: +0.0001 | imaginary part: +0.0002\n",
      "real part: +0.0002 | imaginary part: -0.0001\n",
      "real part: -0.0000 | imaginary part: -0.0001\n",
      "real part: +0.0001 | imaginary part: -0.0001\n",
      "real part: +0.0001 | imaginary part: +0.0002\n",
      "real part: -0.0002 | imaginary part: +0.0001\n",
      "real part: -0.0001 | imaginary part: -0.0002\n",
      "real part: -0.0000 | imaginary part: -0.0001\n",
      "real part: -0.0002 | imaginary part: -0.0002\n",
      "real part: -0.0000 | imaginary part: -0.0000\n",
      "real part: +0.0001 | imaginary part: +0.0001\n",
      "real part: -0.0000 | imaginary part: -0.0001\n",
      "real part: +0.0001 | imaginary part: -0.0001\n",
      "real part: +0.0002 | imaginary part: -0.0002\n",
      "real part: -0.0000 | imaginary part: +0.0001\n",
      "real part: -0.0000 | imaginary part: -0.0001\n",
      "real part: +0.0000 | imaginary part: -0.0000\n",
      "real part: -0.0002 | imaginary part: +0.0001\n",
      "real part: -0.0001 | imaginary part: +0.0002\n",
      "real part: +0.0000 | imaginary part: -0.0002\n",
      "real part: -0.0001 | imaginary part: -0.0000\n",
      "real part: +0.0000 | imaginary part: +0.0001\n",
      "real part: +0.0002 | imaginary part: +0.0001\n",
      "real part: +0.0000 | imaginary part: +0.0003\n",
      "real part: +0.0000 | imaginary part: +0.0003\n",
      "real part: +0.0001 | imaginary part: -0.0001\n",
      "real part: -0.0001 | imaginary part: +32.0002\n",
      "real part: -0.0001 | imaginary part: +32.0002\n"
     ]
    }
   ],
   "source": [
    "main();"
   ]
  },
  {
   "cell_type": "code",
   "execution_count": null,
   "id": "b3516477",
   "metadata": {},
   "outputs": [],
   "source": []
  },
  {
   "cell_type": "code",
   "execution_count": null,
   "id": "a2aa4fb0",
   "metadata": {},
   "outputs": [],
   "source": []
  }
 ],
 "metadata": {
  "kernelspec": {
   "display_name": "C++11",
   "language": "C++11",
   "name": "xcpp11"
  },
  "language_info": {
   "codemirror_mode": "text/x-c++src",
   "file_extension": ".cpp",
   "mimetype": "text/x-c++src",
   "name": "c++",
   "version": "11"
  }
 },
 "nbformat": 4,
 "nbformat_minor": 5
}
