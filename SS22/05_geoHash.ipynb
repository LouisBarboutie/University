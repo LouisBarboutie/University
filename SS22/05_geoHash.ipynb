{
 "cells": [
  {
   "cell_type": "markdown",
   "id": "33ae05d2",
   "metadata": {},
   "source": [
    "# 05: Geometric Hashing\n",
    "\n",
    "There is a general problem in the study of networks or graphs, where we have to discover all pairs of objects in a set which are close to each other, for some cutoff distance $r_{cut}$ defined by embedding the objects in some kind of space.\n",
    "\n",
    "For this week's example we will look at some atoms in a box in $\\mathbb{R}^3$, but this is a very general question, we could be talking about cities on a map, mobile phone base stations, etc.\n",
    "\n",
    "The basic algorithm is to loop once over the atoms and place each one in a \"cell\" defined by its local neighbourhood.  To find neighbours we only need to compare atoms in the same cell, or in one of the $3^3-1=26$ neighbouring cells because any pair not in adjacent cells (including corners) will automatically be too far away.  This gets us a speedup from $\\mathcal{O}(N^2)$ to $\\mathcal{O}(N)$, which is very valuable when calculating short-range interactions between atoms in realistic computer modelling of materials.\n",
    "\n"
   ]
  },
  {
   "cell_type": "code",
   "execution_count": 1,
   "id": "956c9bbf",
   "metadata": {},
   "outputs": [],
   "source": [
    "#include <stdio.h>\n",
    "#include <stdlib.h>\n",
    "\n",
    "//Define a (listable) structured type ATOM_T to hold info about a (classical) atom\n",
    "//I've simplified the datatype to only contain info that is needed for today's problem\n",
    "typedef struct atom_t {\n",
    "    atom_t   *listNext;      //can add to a list of similar objects\n",
    "    double    position[3];   \n",
    "} ATOM_T; \n",
    "\n"
   ]
  },
  {
   "cell_type": "code",
   "execution_count": 2,
   "id": "f9de1f48",
   "metadata": {},
   "outputs": [],
   "source": [
    "ATOM_T *newAtom( double x, double y, double z ){\n",
    "    \n",
    "    /* create an atom in a given position */\n",
    "    \n",
    "    ATOM_T *a;\n",
    "    \n",
    "    a = (ATOM_T *)malloc( sizeof(ATOM_T) );\n",
    "    a->listNext     = NULL;\n",
    "    a->position[0]  = x;\n",
    "    a->position[1]  = y;\n",
    "    a->position[2]  = z;\n",
    "    \n",
    "    return( a );\n",
    "}\n"
   ]
  },
  {
   "cell_type": "code",
   "execution_count": 3,
   "id": "d2e1020c",
   "metadata": {},
   "outputs": [],
   "source": [
    "ATOM_T **boxOfAtoms(int N_atoms, double box_L, int seed ){\n",
    "    \n",
    "    /*\n",
    "     create some atoms and place them randomly in a box centred at the origin.\n",
    "    */\n",
    "    ATOM_T **atoms;\n",
    "    int          i;\n",
    "    double  half_L;\n",
    "    \n",
    "    half_L = L * 0.5;\n",
    "    \n",
    "    //init the random number generator, so that code is repeatable\n",
    "    srand( seed );\n",
    "    \n",
    "    atoms = (ATOM_T **)malloc(N_atoms*sizeof(ATOM_T *));\n",
    "    for( i = 0; i < N_atoms; i++ ){\n",
    "        atoms[i] = newAtom( (rand()*(box_L/RAND_MAX)) - half_L,\n",
    "                            (rand()*(box_L/RAND_MAX)) - half_L,\n",
    "                            (rand()*(box_L/RAND_MAX)) - half_L );\n",
    "        \n",
    "    }\n",
    "    return( atoms );\n",
    "}"
   ]
  },
  {
   "cell_type": "code",
   "execution_count": 4,
   "id": "eeaaf831",
   "metadata": {},
   "outputs": [],
   "source": [
    "double check_contact( ATOM_T* a, ATOM_T* b, double box_L, double r_cut ){\n",
    "    /* \n",
    "    check if two atoms are in \"contact\" (closer than distance r_cut)\n",
    "    \n",
    "    subject to periodic boundary conditions\n",
    "    */\n",
    "    double dx[3], r2, half_L;\n",
    "    int    d;\n",
    "    \n",
    "    half_L = box_L * 0.5;\n",
    "    for( d = 0; d < 3; d++ ){\n",
    "      //displacement vector a to b.\n",
    "      dx[d] = b->position[d] - a->position[d];\n",
    "        \n",
    "      //periodic imaging, now see nearest image.\n",
    "      if     ( dx[d] >  half_L ) dx[d] -= box_L;\n",
    "      else if( dx[d] < -half_L ) dx[d] += box_L;\n",
    "    }\n",
    "    \n",
    "    r2 = dx[0]*dx[0] + dx[1]*dx[1] + dx[2]*dx[2]; \n",
    "    \n",
    "    //return r if we are in contact, otherwise -1 (impossible r).\n",
    "    if( r2 > r_cut*r_cut ) return( -1.0 );\n",
    "    return( sqrt(r2) );\n",
    "    \n",
    "}"
   ]
  },
  {
   "cell_type": "code",
   "execution_count": 2,
   "id": "05fef129",
   "metadata": {},
   "outputs": [],
   "source": [
    "void assignCellIndex( double *posn, int *ix, int *iy, int *iz, double box_L, double r_cell ){\n",
    "    /* assign cell indices for points on [-0.5*box_L.. 0.5*box_L) \n",
    "    \n",
    "       This is done by integer rounding-down, assumes that the \n",
    "       box is centred at the origin and that all particles are\n",
    "       in the box.   [-L/2 <= x,y,z < L/2)\n",
    "    */\n",
    "    double half_L;\n",
    "    \n",
    "    half_L = box_L * 0.5;\n",
    "    \n",
    "    //write to the output variables provided by the pointers ix, iy, iz\n",
    "   *ix = (int)((posn[0]+half_L)/r_cell);\n",
    "   *iy = (int)((posn[1]+half_L)/r_cell);\n",
    "   *iz = (int)((posn[2]+half_L)/r_cell);\n",
    "}"
   ]
  },
  {
   "cell_type": "markdown",
   "id": "73aa6c98",
   "metadata": {},
   "source": [
    "OK great I have given you some code to \n",
    "\n",
    "1) Create a box of atoms\n",
    "\n",
    "2) See if two atoms are in contact\n",
    "\n",
    "3) See which neighbour cell (by 3D array indices) a given atom should be in\n",
    "\n",
    "Before I do the whole exercise I am going to stop coding and ask you to take over.\n"
   ]
  },
  {
   "cell_type": "markdown",
   "id": "117e5ce0",
   "metadata": {},
   "source": [
    "## Assignment, week 05: Cells and neighbours"
   ]
  },
  {
   "cell_type": "markdown",
   "id": "d8c88d8e",
   "metadata": {},
   "source": [
    "Write programs (create new cells below) which do the following, each one should make a printout to show that it is working:\n",
    "\n",
    "1) Place $N$ atoms in a cubic periodic box of side-length $L$ and count the number of pairs of atoms less than $r_{cut}$ distance unit apart. Your code should use geometric hashing such that it will have linear scaling in the limit of large number of atoms.  Make it easy for me to change $N,L,r_{cut}$ when I test.\n",
    "\n",
    "In the above implementation remember: \n",
    "\n",
    "1) You can track which atoms are in a cell by making linked lists.\n",
    "\n",
    "2) You will need an integer number of cells.  Optimal cell size is $r_{cut}$, how do you adapt this?\n",
    "\n",
    "3) Your code should still work if the box is less than $3r_{cut}$ in size."
   ]
  },
  {
   "cell_type": "code",
   "execution_count": null,
   "id": "87edab51",
   "metadata": {},
   "outputs": [],
   "source": []
  }
 ],
 "metadata": {
  "kernelspec": {
   "display_name": "C++11",
   "language": "C++11",
   "name": "xcpp11"
  },
  "language_info": {
   "codemirror_mode": "text/x-c++src",
   "file_extension": ".cpp",
   "mimetype": "text/x-c++src",
   "name": "c++",
   "version": "11"
  }
 },
 "nbformat": 4,
 "nbformat_minor": 5
}
