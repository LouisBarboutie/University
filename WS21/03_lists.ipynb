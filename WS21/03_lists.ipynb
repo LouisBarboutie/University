{
 "cells": [
  {
   "cell_type": "markdown",
   "id": "04fcb6bc",
   "metadata": {},
   "source": [
    "## Question 1"
   ]
  },
  {
   "cell_type": "code",
   "execution_count": 108,
   "id": "c82ecaa6",
   "metadata": {
    "scrolled": true
   },
   "outputs": [
    {
     "name": "stdout",
     "output_type": "stream",
     "text": [
      "Lggit u  erhfeg\n"
     ]
    }
   ],
   "source": [
    "## Find a quote from Heidegger or Wittgenstein online, define it as a string and then print every third \n",
    "## character of the string.\n",
    "\n",
    "quoteHeidegger = str(\"Language is the house of the truth of Being.\") ## my quote ... \n",
    "\n",
    "print(quoteHeidegger[::3]) ## printing every element from start to end in step of 3: 1,4,7, ...\n",
    "\n",
    "## if I want the order to be 3,6,9, ... then it needs to be: print(quoteHeidegger[2::3])"
   ]
  },
  {
   "cell_type": "markdown",
   "id": "87418e07",
   "metadata": {},
   "source": [
    "## Question 2"
   ]
  },
  {
   "cell_type": "code",
   "execution_count": 114,
   "id": "8f14d86f",
   "metadata": {},
   "outputs": [
    {
     "name": "stdout",
     "output_type": "stream",
     "text": [
      "Language is the house of the truth of Being\n"
     ]
    },
    {
     "data": {
      "text/plain": [
       "['Language', 'is', 'the', 'house', 'of', 'the', 'truth', 'of', 'Being']"
      ]
     },
     "execution_count": 114,
     "metadata": {},
     "output_type": "execute_result"
    }
   ],
   "source": [
    "## Look up the split() method of strings : python3 str datatype. Write some code to create a list from the quote \n",
    "## string, in which each word from the quote becomes a member of the list. \n",
    "\n",
    "import re\n",
    "\n",
    "quoteHeidegger = re.sub(r'[^a-z A-z]','',quoteHeidegger) ## remove non-letter characters\n",
    "\n",
    "print(quoteHeidegger)\n",
    "\n",
    "quoteHeidegger.split(' ') ## easy split since only whitespaces are used to separate words"
   ]
  },
  {
   "cell_type": "markdown",
   "id": "1b2ac888",
   "metadata": {},
   "source": [
    "## Question 3"
   ]
  },
  {
   "cell_type": "code",
   "execution_count": 213,
   "id": "a68527b9",
   "metadata": {},
   "outputs": [
    {
     "name": "stdout",
     "output_type": "stream",
     "text": [
      "THIS IS THE TEST PHASE \n",
      " \n",
      "y\n",
      "3 2\n",
      "[['Hello All', 'Banana'], ['Physics', 'Maths', 'Chemistry']]\n",
      "[['Hello All', 'Banana'], ['Physics', 'Maths', 'Chemistry'], [], [], []]\n",
      "\n",
      "\n",
      "\n",
      "NOW BEGINS THE REAL DEAL \n",
      "\n",
      "my quote is: Language is the house of the truth of Being \n",
      "\n",
      "the list of the words is: ['Language', 'is', 'the', 'house', 'of', 'the', 'truth', 'of', 'Being'] \n",
      "\n",
      "there are  9 words in this quote\n",
      "\n",
      "The list of sublists of letters is:\n",
      " [['L', 'a', 'n', 'g', 'u', 'a', 'g', 'e'], ['i', 's'], ['t', 'h', 'e'], ['h', 'o', 'u', 's', 'e'], ['o', 'f'], ['t', 'h', 'e'], ['t', 'r', 'u', 't', 'h'], ['o', 'f'], ['B', 'e', 'i', 'n', 'g']]\n"
     ]
    }
   ],
   "source": [
    "# Test Phase\n",
    "print(\"THIS IS THE TEST PHASE \\n \")\n",
    "testList = [['Hello All', 'Banana'], ['Physics', 'Maths','Chemistry']] ## define List\n",
    "print(testList[1][0][2]) ## print out specific letter from sublist\n",
    "\n",
    "y = len(testList) ## amount of sublists in List\n",
    "x = len(testList[1]) ## amount of entries in Sublist 1\n",
    "\n",
    "print(x, y)\n",
    "print(testList)\n",
    "\n",
    "for i in range(3): ## test loop for adding new sublists\n",
    "    testList.append([])\n",
    "\n",
    "print(testList)\n",
    "print(\"\\n\\n\")\n",
    "\n",
    "print(\"NOW BEGINS THE REAL DEAL \\n\")\n",
    "\n",
    "# Now let's start the real deal\n",
    "wordList = quoteHeidegger.split(' ') ## get the List with only one word in each member\n",
    "L = []\n",
    "\n",
    "print('my quote is:', quoteHeidegger, '\\n')\n",
    "\n",
    "print('the list of the words is:', wordList, '\\n')\n",
    "\n",
    "wordListLength = len(wordList) ## get amount of members in wordList\n",
    "print('there are ', wordListLength, 'words in this quote\\n')\n",
    "\n",
    "for i in range(wordListLength): ## for each word i, create a new sublist i, to which we append each letter j individually\n",
    "    wordLength = len(wordList[i])\n",
    "    L.append([])\n",
    "    \n",
    "    for j in range(wordLength):\n",
    "        L[i].append(wordList[i][j])\n",
    "        \n",
    "print('The list of sublists of letters is:\\n',L) ## gimme gimme some output\n"
   ]
  },
  {
   "cell_type": "markdown",
   "id": "c7c5f1de",
   "metadata": {},
   "source": [
    "## Question 4\n"
   ]
  },
  {
   "cell_type": "code",
   "execution_count": 116,
   "id": "125e4c81",
   "metadata": {},
   "outputs": [
    {
     "name": "stdout",
     "output_type": "stream",
     "text": [
      "35\n"
     ]
    }
   ],
   "source": [
    "##  With help from the len() function, count the number of non-space characters in the quote.\n",
    "\n",
    "spaceCharacterAmount = quoteHeidegger.count(\" \") ## counting the amount of spaces\n",
    "\n",
    "nonSpaceCharacterAmount = len(quoteHeidegger) - spaceCharacterAmount ## substracting that number to the total amount of characters\n",
    "\n",
    "print(nonSpaceCharacterAmount)"
   ]
  },
  {
   "cell_type": "markdown",
   "id": "8abc33aa",
   "metadata": {},
   "source": [
    "## Question 5"
   ]
  },
  {
   "cell_type": "code",
   "execution_count": 133,
   "id": "2cd3d59c",
   "metadata": {},
   "outputs": [
    {
     "name": "stdout",
     "output_type": "stream",
     "text": [
      "dcL =  [['L', 'a', 'n', 'g', 'u', 'a', 'g', 'e'], ['i', 's'], ['t', 'h', 'e']]\n"
     ]
    }
   ],
   "source": [
    "## Make a deep copy of the first three elements in the list-of-lists and print the copy.\n",
    "import copy\n",
    "\n",
    "deepCopyList = copy.deepcopy(L[:3]) ## using deepcopy to get the first three sublists\n",
    "print('dcL = ', deepCopyList)"
   ]
  },
  {
   "cell_type": "markdown",
   "id": "db31e33c",
   "metadata": {},
   "source": [
    "## Question 6"
   ]
  },
  {
   "cell_type": "code",
   "execution_count": 214,
   "id": "890a9a6b",
   "metadata": {},
   "outputs": [
    {
     "name": "stdout",
     "output_type": "stream",
     "text": [
      "[1]\n",
      "[2]\n",
      "[3]\n",
      "[list([1, 2, 3, [...]])]\n",
      "not working\n"
     ]
    }
   ],
   "source": [
    "## Make a list which contains itself; then test and show what happens when you make a deep copy of the list\n",
    "## which contains itself, by creating a nice way to print some depthful \n",
    "## representation of the deeply copied list.\n",
    "\n",
    "import numpy as np\n",
    "\n",
    "someList = [1,2,3]\n",
    "\n",
    "someList.append(someList)\n",
    "\n",
    "naniList = copy.deepcopy(someList)\n",
    "\n",
    "\n",
    "## temporary try\n",
    "\n",
    "dt= np.dtype(object)\n",
    "arr = np.array([naniList], dt)\n",
    "\n",
    "## dunno if that's correct :O\n",
    "try:\n",
    "    for i in range(30):\n",
    "        x = arr[:,i]\n",
    "        print(x)\n",
    "except:\n",
    "    print('not working')\n",
    "## didn't find a method to add '[]' at the end of prints to go further down each time into sublists\n"
   ]
  },
  {
   "cell_type": "code",
   "execution_count": null,
   "id": "899a5c2b",
   "metadata": {},
   "outputs": [],
   "source": []
  }
 ],
 "metadata": {
  "kernelspec": {
   "display_name": "Python 3",
   "language": "python",
   "name": "python3"
  },
  "language_info": {
   "codemirror_mode": {
    "name": "ipython",
    "version": 3
   },
   "file_extension": ".py",
   "mimetype": "text/x-python",
   "name": "python",
   "nbconvert_exporter": "python",
   "pygments_lexer": "ipython3",
   "version": "3.8.8"
  }
 },
 "nbformat": 4,
 "nbformat_minor": 5
}
