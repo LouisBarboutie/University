{
 "cells": [
  {
   "cell_type": "markdown",
   "id": "80cc2010",
   "metadata": {},
   "source": [
    "## Question 1"
   ]
  },
  {
   "cell_type": "code",
   "execution_count": 123,
   "id": "b1785986",
   "metadata": {},
   "outputs": [
    {
     "name": "stdout",
     "output_type": "stream",
     "text": [
      "[7.799641648500644, 18.367491153554163, 19.506502827771822, 23.76639464680299, 27.47197574732907, 28.195727701147455, 35.450912696045364, 49.2946745094861, 73.28065414055608, 78.88332740951012]\n"
     ]
    }
   ],
   "source": [
    "## Use np.random to make an array of 10 floating point numbers on [0,100.0). (Make sure you \n",
    "## are getting the right half-open interval.) Apply the function \"sorted\" to print the sorted array, \n",
    "## in increasing numerical order.\n",
    "\n",
    "## Libraries\n",
    "import numpy as np\n",
    "\n",
    "## getting our random list of length 10\n",
    "numberList = np.random.random(10) * 100 ## random floats between 0 to 100 (exlcuded)\n",
    "\n",
    "## output\n",
    "print(sorted(numberList))"
   ]
  },
  {
   "cell_type": "markdown",
   "id": "e5475635",
   "metadata": {},
   "source": [
    "## Question 2"
   ]
  },
  {
   "cell_type": "code",
   "execution_count": 128,
   "id": "4a28252f",
   "metadata": {},
   "outputs": [
    {
     "name": "stdout",
     "output_type": "stream",
     "text": [
      "[78.88332740951012, 73.28065414055608, 49.2946745094861, 35.450912696045364, 28.195727701147455, 27.47197574732907, 23.76639464680299, 19.506502827771822, 18.367491153554163, 7.799641648500644]\n"
     ]
    }
   ],
   "source": [
    "## Use the function \"sorted\" to print the sorted array, in decreasing numerical order.\n",
    "\n",
    "## reverse the list\n",
    "invertedNumberList = sorted(numberList, reverse = True)\n",
    "\n",
    "## output \n",
    "print(invertedNumberList)"
   ]
  },
  {
   "cell_type": "markdown",
   "id": "271a5cdb",
   "metadata": {},
   "source": [
    "## Question 3"
   ]
  },
  {
   "cell_type": "code",
   "execution_count": 129,
   "id": "e1ae86c7",
   "metadata": {},
   "outputs": [
    {
     "name": "stdout",
     "output_type": "stream",
     "text": [
      "Initialization\n",
      "L0 =  [7, 18, 19, 23, 27, 28, 35, 49, 73, 78]\n",
      "L1 =  []\n",
      "L2 =  []\n",
      "L3 =  []\n",
      "\n",
      "Filtering non-prime numbers\n",
      "L0 =  [7, 18, 19, 23, 27, 28, 35, 49, 73, 78]\n",
      "L1 =  [18, 27, 28, 35, 49, 78]\n",
      "L2 =  []\n",
      "L3 =  []\n",
      "\n",
      "Filtering prime numbers\n",
      "L0 =  [7, 18, 19, 23, 27, 28, 35, 49, 73, 78]\n",
      "L1 =  [18, 27, 28, 35, 49, 78]\n",
      "L2 =  [7, 19, 23, 73]\n",
      "L3 =  []\n",
      "\n",
      "Creating final list\n",
      "L0 =  [7, 18, 19, 23, 27, 28, 35, 49, 73, 78]\n",
      "L1 =  [18, 27, 28, 35, 49, 78]\n",
      "L2 =  [7, 19, 23, 73]\n",
      "L3 =  [7, 19, 23, 73, 18, 27, 28, 35, 49, 78]\n"
     ]
    }
   ],
   "source": [
    "## Programming alert: you will need to apply what you have learned to do this question: \n",
    "## Convert the array to integers, and use the function \"sorted\" to print the sorted array, \n",
    "## in increasing numerical order, but with any prime numbers moved to the beginning. \n",
    "## Use google to check the definition of a prime, and please make sure that your program is really working \n",
    "## before you submit.\n",
    "\n",
    "## Libraries\n",
    "import copy\n",
    "\n",
    "integerNumberList = numberList.astype(int)\n",
    "sortedIntegerNumberList = sorted(integerNumberList)\n",
    "\n",
    "\n",
    "## Initialization\n",
    "\n",
    "## initialization of all needed lists\n",
    "L0 = sortedIntegerNumberList ## sorted integer number list\n",
    "L1 = [] ## non prime list\n",
    "L2 = [] ## prime List\n",
    "L3 = [] ## final List, in increasing order, primes at beginning\n",
    "\n",
    "## output\n",
    "print(\"Initialization\")\n",
    "print(\"L0 = \", L0)\n",
    "print(\"L1 = \", L1)\n",
    "print(\"L2 = \", L2)\n",
    "print(\"L3 = \", L3)\n",
    "print()\n",
    "\n",
    "\n",
    "\n",
    "## Non prime numbers\n",
    "\n",
    "## identifying non prime numbers\n",
    "for j in range(len(L0)): \n",
    "    ## check division by any number smaller than itself, but bigger than 1\n",
    "    for i in range(2,L0[j],1):\n",
    "        rest = L0[j] % i\n",
    "        ## if rest is zero, it means we have found a divisor, so x isn't prime\n",
    "        if rest == 0:\n",
    "            L1.append(L0[j])\n",
    "            break\n",
    "\n",
    "## output\n",
    "print(\"Filtering non-prime numbers\")\n",
    "print(\"L0 = \", L0)\n",
    "print(\"L1 = \", L1)\n",
    "print(\"L2 = \", L2)\n",
    "print(\"L3 = \", L3)\n",
    "print()\n",
    "\n",
    "\n",
    "\n",
    "## Prime numbers\n",
    "\n",
    "## create a copy of L0 so we don't mess with the original list\n",
    "L2 = copy.deepcopy(L0)\n",
    "\n",
    "## remove non prime numbers, so we keep only prime numbers in our list\n",
    "for i in range(len(L1)):\n",
    "    L2.remove(L1[i])\n",
    "\n",
    "## output \n",
    "print(\"Filtering prime numbers\")\n",
    "print(\"L0 = \", L0)\n",
    "print(\"L1 = \", L1)\n",
    "print(\"L2 = \", L2)\n",
    "print(\"L3 = \", L3)\n",
    "print()\n",
    "\n",
    "\n",
    "\n",
    "## Final stage\n",
    "\n",
    "## create final list\n",
    "L3 = L2 + L1 ## adding in order prime + non-prime numbers\n",
    "\n",
    "## output\n",
    "print(\"Creating final list\")\n",
    "print(\"L0 = \", L0)\n",
    "print(\"L1 = \", L1)\n",
    "print(\"L2 = \", L2)\n",
    "print(\"L3 = \", L3)\n",
    "\n",
    "\n",
    "\n",
    "## finding this method took way longer than I am willing to admit ..."
   ]
  },
  {
   "cell_type": "code",
   "execution_count": null,
   "id": "17db00e4",
   "metadata": {},
   "outputs": [],
   "source": []
  }
 ],
 "metadata": {
  "kernelspec": {
   "display_name": "Python 3",
   "language": "python",
   "name": "python3"
  },
  "language_info": {
   "codemirror_mode": {
    "name": "ipython",
    "version": 3
   },
   "file_extension": ".py",
   "mimetype": "text/x-python",
   "name": "python",
   "nbconvert_exporter": "python",
   "pygments_lexer": "ipython3",
   "version": "3.8.8"
  }
 },
 "nbformat": 4,
 "nbformat_minor": 5
}
