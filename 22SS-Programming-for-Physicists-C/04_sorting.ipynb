{
 "cells": [
  {
   "cell_type": "markdown",
   "id": "33ae05d2",
   "metadata": {},
   "source": [
    "# 04: Sorting\n",
    "\n",
    "We've done some examples of sorting which took $\\mathcal{O}(N^2)$ time, however it is possible to do much better than this, $\\mathcal{O}(N \\log N)$ is possible with a variety of algorithms.\n",
    "\n",
    "In a practical programming application most of the time I would just use a standard C sorting function, $qsort()$, rather than writing my own, so the example code this week will start by defining some structured objects which can be sorted in different ways and applying qsort() to them.\n",
    "\n",
    "I've already showed some code to define a structured datatype, today we will create something a bit more complicated than just an int and a pointer, we will make something that can hold some complex information about an atom.\n"
   ]
  },
  {
   "cell_type": "code",
   "execution_count": 1,
   "id": "956c9bbf",
   "metadata": {},
   "outputs": [],
   "source": [
    "#include <stdio.h>\n",
    "#include <stdlib.h>\n",
    "\n",
    "//Define a (listable) structured type ATOM_T to hold info about a (classical) atom\n",
    "typedef struct atom_t {\n",
    "    atom_t   *listNext;      //can add to a list of similar objects\n",
    "    atom_t  **bonded_atoms;  //an array of pointers to other atoms\n",
    "    int       n_bonds;       //size of above array.\n",
    "    double    position[3];   \n",
    "    double    momentum[3];\n",
    "    double    mass;\n",
    "    char      element[3];\n",
    "    int       display_row;   //save this info to make a nice printout of the molecule\n",
    "    int       display_col;   //\n",
    "} ATOM_T; \n",
    "\n"
   ]
  },
  {
   "cell_type": "markdown",
   "id": "b00d9327",
   "metadata": {},
   "source": [
    "When we define a complicated structured datatype, typically we write functions to initialise and to free items of that type."
   ]
  },
  {
   "cell_type": "code",
   "execution_count": 2,
   "id": "f9de1f48",
   "metadata": {},
   "outputs": [],
   "source": [
    "ATOM_T *newAtom( double mass, const char *eleString, int n_bonds, int display_row, int display_col ){\n",
    "    /*We can just declare structures straight-up\n",
    "      but it is nicer to have an initialisation function*/\n",
    "    ATOM_T *a;\n",
    "    int     i;\n",
    "    \n",
    "    //allocate the space\n",
    "    a = (ATOM_T *)malloc( sizeof(ATOM_T) );\n",
    "    \n",
    "    //copy in the string, checking that we don't run over the end of the input string,\n",
    "    //and also that we don't overfill the 2 char limit of the periodic table element \n",
    "    //name\n",
    "    for( i = 0; i < 2; i++ ){\n",
    "        a->element[i] = eleString[i];\n",
    "        if( eleString[i] == '\\0' ) break;\n",
    "    }\n",
    "    a->element[2] = '\\0'; //finish the string with a null terminator whether one was passed or not.\n",
    "    a->mass = mass;\n",
    "\n",
    "    a->listNext     = NULL;\n",
    "    a->n_bonds      = n_bonds;\n",
    "    a->bonded_atoms = (ATOM_T **)malloc(n_bonds * sizeof(ATOM_T *));\n",
    "    \n",
    "    a->display_row = display_row;\n",
    "    a->display_col = display_col;\n",
    "    \n",
    "    //don't bother setting up position and momentum for now\n",
    "    return( a );\n",
    "}\n"
   ]
  },
  {
   "cell_type": "code",
   "execution_count": 3,
   "id": "d2e1020c",
   "metadata": {},
   "outputs": [],
   "source": [
    "void freeAtom( ATOM_T *a ){\n",
    "    /* Two mallocs in the constructor\n",
    "    means two frees in the destructor */\n",
    "    free( a->bonded_atoms );\n",
    "    free( a );\n",
    "}"
   ]
  },
  {
   "cell_type": "code",
   "execution_count": 4,
   "id": "eeaaf831",
   "metadata": {},
   "outputs": [],
   "source": [
    "\n",
    "ATOM_T **makeEthanol(){\n",
    "    /* Example function to structure atoms\n",
    "    and make a molecule (CH3CH2OH, ethanol)*/\n",
    "    ATOM_T **ethAtoms;\n",
    "    int      i;\n",
    "    \n",
    "    ethAtoms = (ATOM_T **)malloc( 9 * sizeof(ATOM_T *) );\n",
    "    \n",
    "    //create a list of atoms to make ethanol \n",
    "    ethAtoms[0] = newAtom( 12.0, \"C\", 4, 1, 1 );\n",
    "    ethAtoms[1] = newAtom( 1.0,  \"H\", 1, 0, 1 );\n",
    "    ethAtoms[2] = newAtom( 2.0,  \"H\", 1, 1, 0 );\n",
    "    ethAtoms[3] = newAtom( 1.0,  \"H\", 1, 2, 1 );\n",
    "    ethAtoms[4] = newAtom( 12.0, \"C\", 4, 1, 2 );\n",
    "    ethAtoms[5] = newAtom( 1.0,  \"H\", 1, 0, 2 );\n",
    "    ethAtoms[6] = newAtom( 1.0,  \"H\", 1, 2, 2 );\n",
    "    ethAtoms[7] = newAtom( 16.0, \"O\", 2, 1, 3 );\n",
    "    ethAtoms[8] = newAtom( 1.0,  \"H\", 1, 1, 4 );\n",
    "    \n",
    "    //define the molecular structure\n",
    "    //CH3\n",
    "    ethAtoms[0]->bonded_atoms[0] = ethAtoms[1];\n",
    "    ethAtoms[0]->bonded_atoms[1] = ethAtoms[2];\n",
    "    ethAtoms[0]->bonded_atoms[2] = ethAtoms[3];\n",
    "    for( i = 1; i < 4; i++) ethAtoms[i]->bonded_atoms[0] = ethAtoms[0];\n",
    "    \n",
    "    //CC\n",
    "    ethAtoms[0]->bonded_atoms[3] = ethAtoms[4];\n",
    "    ethAtoms[4]->bonded_atoms[0] = ethAtoms[0];\n",
    "    \n",
    "    //CH2O\n",
    "    ethAtoms[4]->bonded_atoms[1] = ethAtoms[5];\n",
    "    ethAtoms[4]->bonded_atoms[2] = ethAtoms[6];\n",
    "    ethAtoms[4]->bonded_atoms[3] = ethAtoms[7];\n",
    "    for( i = 5; i < 8; i++) ethAtoms[i]->bonded_atoms[0] = ethAtoms[4];\n",
    "    \n",
    "    //OH\n",
    "    ethAtoms[7]->bonded_atoms[1] = ethAtoms[8];\n",
    "    ethAtoms[8]->bonded_atoms[0] = ethAtoms[7];\n",
    "    \n",
    "    return( ethAtoms );\n",
    "}\n"
   ]
  },
  {
   "cell_type": "markdown",
   "id": "73aa6c98",
   "metadata": {},
   "source": [
    "Well that is cool, but how do you test a data structure? There isn't much to do except print it out, I'll try and write a simple function to print out a molecule, below.\n"
   ]
  },
  {
   "cell_type": "code",
   "execution_count": 5,
   "id": "ab5094b2",
   "metadata": {},
   "outputs": [],
   "source": [
    "void printMolecule( ATOM_T **mol, int n_atoms, int max_row, int max_col ){\n",
    "\n",
    "    int i, j, ia;\n",
    "    char *outchars;\n",
    "    \n",
    "    //create a large multiline string to hold the printout\n",
    "    outchars = (char *)malloc(1+max_row*(max_col*3+1)*sizeof(char));\n",
    "    for( j=0; j < max_row; j++ ){\n",
    "       for( i=0; i < max_col*3; i++ ){\n",
    "           outchars[j*(max_col*3+1) + i] = ' ';\n",
    "       }\n",
    "       outchars[j*(max_col*3+1) + max_col*3] = '\\n';\n",
    "    }\n",
    "    outchars[max_row*(max_col*3+1)] = '\\0'; //string terminator\n",
    "    \n",
    "    //fill the string with element names\n",
    "    for( j=0; j < max_row; j++ ){\n",
    "       for( i=0; i < max_col; i++ ){\n",
    "           for( ia = 0; ia < n_atoms; ia++ ){\n",
    "               if( mol[ia]->display_row == j && mol[ia]->display_col == i  ){\n",
    "                   sprintf( &outchars[j*(max_col*3+1) + i*3], \"%.2s \", mol[ia]->element);\n",
    "                   outchars[j*(max_col*3+1) + i*3 + 2] = ' '; //overwrite the terminator that was just added\n",
    "               }\n",
    "           }\n",
    "       }\n",
    "    }\n",
    "    printf(\"%s\", outchars);\n",
    "}"
   ]
  },
  {
   "cell_type": "code",
   "execution_count": 6,
   "id": "a2a78648",
   "metadata": {},
   "outputs": [
    {
     "name": "stdout",
     "output_type": "stream",
     "text": [
      "   H  H        \n",
      "H  C  C  O  H  \n",
      "   H  H        \n",
      "               \n",
      "               \n"
     ]
    }
   ],
   "source": [
    "int main(){\n",
    "    ATOM_T **ethAtoms;\n",
    "    int      i;\n",
    "    \n",
    "    ethAtoms = makeEthanol();\n",
    "    printMolecule( ethAtoms, 9, 5, 5);\n",
    "    \n",
    "    for( i = 0; i < 9; i++ ) freeAtom(ethAtoms[i]);\n",
    "    free(ethAtoms);\n",
    "    \n",
    "    return( EXIT_SUCCESS );\n",
    "}\n",
    "\n",
    "main();"
   ]
  },
  {
   "cell_type": "markdown",
   "id": "bd63f263",
   "metadata": {},
   "source": [
    "## Sorting\n",
    "\n",
    "OK well I wrote what turned out to be quite a lot of code to build a structured datatype containing info about some atoms.\n",
    "\n",
    "Below I'm going to give a quick example of C qsort() function to sort the atoms by mass."
   ]
  },
  {
   "cell_type": "code",
   "execution_count": 7,
   "id": "fd6efcf8",
   "metadata": {},
   "outputs": [],
   "source": [
    "/* to use qsort we need to define a function for comparing objects of the type that we are sorting\n",
    "\n",
    "Because the function has to fit a standard definition, we can't use our ATOM_T* datatype in the\n",
    "prototype: it has to take (const void *) and then cast them to (ATOM_T **) inside the function.\n",
    "\n",
    "This looks absolutely horrible and is not nice to read.\n",
    "\n",
    "Basically the qsort() needs a compare function as an argument, and all it knows or wants to know\n",
    "is that the two argments of the compare function have to be pointers of some kind.\n",
    "\n",
    "Because our ATOM_T* objects are already pointers, qsort feeds the compare function\n",
    "pointers-to-pointers.  To use these values a and b, we have to cast them to ATOM_T**\n",
    "and then dereference, which needs a lot of brackets and stars and is not especially nice.\n",
    "\n",
    "*/\n",
    "int compare_atoms_mass(const void *a, const void *b){\n",
    "    /* compare functions for qsort need to return -ve if less than, +ve if greater than.\n",
    "       it doesn't really matter what they return if equivalent, but formally should be 0.*/\n",
    "    if( (*(ATOM_T **)a)->mass < (*(ATOM_T **)b)->mass ) return( -1 );\n",
    "    if( (*(ATOM_T **)a)->mass > (*(ATOM_T **)b)->mass ) return(  1 );\n",
    "    return( 0 );\n",
    "}"
   ]
  },
  {
   "cell_type": "code",
   "execution_count": 8,
   "id": "3bf52833",
   "metadata": {},
   "outputs": [
    {
     "name": "stdout",
     "output_type": "stream",
     "text": [
      "   H  H        \n",
      "H  C  C  O  H  \n",
      "   H  H        \n",
      "               \n",
      "               \n",
      "Before sorting:\n",
      "ethAtoms 0 C has mass: 12.00 bonds: H H H C\n",
      "ethAtoms 1 H has mass: 1.00 bonds: C\n",
      "ethAtoms 2 H has mass: 2.00 bonds: C\n",
      "ethAtoms 3 H has mass: 1.00 bonds: C\n",
      "ethAtoms 4 C has mass: 12.00 bonds: C H H O\n",
      "ethAtoms 5 H has mass: 1.00 bonds: C\n",
      "ethAtoms 6 H has mass: 1.00 bonds: C\n",
      "ethAtoms 7 O has mass: 16.00 bonds: C H\n",
      "ethAtoms 8 H has mass: 1.00 bonds: O\n",
      "\n",
      "After sort:\n",
      "ethAtoms 0 H has mass: 1.00 bonds: C\n",
      "ethAtoms 1 H has mass: 1.00 bonds: C\n",
      "ethAtoms 2 H has mass: 1.00 bonds: C\n",
      "ethAtoms 3 H has mass: 1.00 bonds: C\n",
      "ethAtoms 4 H has mass: 1.00 bonds: O\n",
      "ethAtoms 5 H has mass: 2.00 bonds: C\n",
      "ethAtoms 6 C has mass: 12.00 bonds: H H H C\n",
      "ethAtoms 7 C has mass: 12.00 bonds: C H H O\n",
      "ethAtoms 8 O has mass: 16.00 bonds: C H\n"
     ]
    }
   ],
   "source": [
    "\n",
    "\n",
    "int main(){\n",
    "    ATOM_T **ethAtoms;\n",
    "    int      i, j;\n",
    "    \n",
    "\n",
    "    ethAtoms = makeEthanol();\n",
    "    printMolecule( ethAtoms, 9, 5, 5);\n",
    "    printf(\"Before sorting:\\n\");\n",
    "    for( i = 0; i < 9; i++ ){\n",
    "        printf(\"ethAtoms %i %s has mass: %.2lf \",\n",
    "                    i, ethAtoms[i]->element, ethAtoms[i]->mass);\n",
    "        printf(\"bonds:\");\n",
    "        for( j = 0; j < ethAtoms[i]->n_bonds; j++){\n",
    "            printf(\" %s\",ethAtoms[i]->bonded_atoms[j]->element);\n",
    "        }\n",
    "        printf(\"\\n\");\n",
    "    }\n",
    "    \n",
    "    /*qsort(base_of_array, \n",
    "            number_objects, \n",
    "            size_objects, \n",
    "            use_this_compare_function);*/\n",
    "    qsort(ethAtoms, 9, sizeof(ATOM_T *), compare_atoms_mass); //pass the function name in as an argument to the sort\n",
    "    \n",
    "    //is it sorted?\n",
    "    printf(\"\\nAfter sort:\\n\");\n",
    "    for( i = 0; i < 9; i++ ){\n",
    "        printf(\"ethAtoms %i %s has mass: %.2lf \",\n",
    "                    i, ethAtoms[i]->element, ethAtoms[i]->mass);\n",
    "        printf(\"bonds:\");\n",
    "        for( j = 0; j < ethAtoms[i]->n_bonds; j++){\n",
    "            printf(\" %s\",ethAtoms[i]->bonded_atoms[j]->element);\n",
    "        }\n",
    "        printf(\"\\n\");\n",
    "    }\n",
    "    \n",
    "    return( EXIT_SUCCESS );\n",
    "}\n",
    "\n",
    "main();"
   ]
  },
  {
   "cell_type": "markdown",
   "id": "70cc1688",
   "metadata": {},
   "source": [
    "That works out nicely, after the qsort(), all the bond pointers are still correct.  The array of pointers to atoms was sorted, but the atom data itself is still in the same place in memory that it always was, so we only had to do pointer shuffling."
   ]
  },
  {
   "cell_type": "markdown",
   "id": "117e5ce0",
   "metadata": {},
   "source": [
    "## Assignment, week 04 : Structures and Sorting"
   ]
  },
  {
   "cell_type": "markdown",
   "id": "d8c88d8e",
   "metadata": {},
   "source": [
    "Write programmes (create new cells below) which do the following, each one should make a printout to show that it is working:\n",
    "\n",
    "1) Create a caffeine molecule in the same way as I created an ethanol molecule, and with the same rough printout method for the structural formula (so you have to specify a row and a column in the text output for each atom that you add to the molecule).\n",
    "\n",
    "2) Create a caffeine molecule and use qsort to sort (by mass of the bonded atom, descending) the arrays of bonds that you should have defined per-atom of the caffeine, show a before and after.\n",
    "\n",
    "3) Create a markdown cell in the notebook, and write in pseudocode an algorithm which can sort a list or an array faster than $\\mathcal{O}(N^2)$.  You can easily find such algorithms on wikipedia, for example binary insertion sort.  The work here is for you to document and present an algorithm in a neat, readable, way such that it would be easy to code in a C-like language without actually being C, or python, or whatever.  Cormen et al. is full of good examples of what readable pseudocode looks like, or you can find examples of various quality on wikipedia, there is no single absolutely rigid standard.\n"
   ]
  },
  {
   "cell_type": "code",
   "execution_count": null,
   "id": "87edab51",
   "metadata": {},
   "outputs": [],
   "source": []
  }
 ],
 "metadata": {
  "kernelspec": {
   "display_name": "C++11",
   "language": "C++11",
   "name": "xcpp11"
  },
  "language_info": {
   "codemirror_mode": "text/x-c++src",
   "file_extension": ".cpp",
   "mimetype": "text/x-c++src",
   "name": "c++",
   "version": "11"
  }
 },
 "nbformat": 4,
 "nbformat_minor": 5
}
