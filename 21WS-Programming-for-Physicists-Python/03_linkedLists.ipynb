{
 "cells": [
  {
   "cell_type": "markdown",
   "id": "33ae05d2",
   "metadata": {},
   "source": [
    "# 03: Linked Lists\n",
    "\n",
    "C++ has powerful features for organising functions and data together in structured objects called \"Classes\".  Regular C doesn't have Classes, but it does have a more basic (and more transparent) concept known as a \"structure\".\n",
    "\n",
    "A structure is just a group of different pointers or data variables, each of which is named as a member of the structure.  \n",
    "\n",
    "A structure can include other structures, or pointers to other structures, or even pointers to itself.\n",
    "\n",
    "A structure can include pointers not only to data, but to functions.  Mixing functions and data is advanced programming, we won't do this much, but be aware of the concept.\n",
    "\n",
    "The example for today is to extend a standard datatype to make it easier to organise in a linked list (or a queue).\n"
   ]
  },
  {
   "cell_type": "code",
   "execution_count": 7,
   "id": "956c9bbf",
   "metadata": {},
   "outputs": [],
   "source": [
    "#include <stdio.h>\n",
    "#include <stdlib.h>\n",
    "\n",
    "//Define a structured type LISTABLE_INT to build lists of integers\n",
    "typedef struct listable_int {\n",
    "    listable_int *next;\n",
    "    int           val;\n",
    "} LISTABLE_INT; \n"
   ]
  },
  {
   "cell_type": "markdown",
   "id": "cdad186e",
   "metadata": {},
   "source": [
    "The basic idea of a linked list is d that each item has a pointer to the next one, until we get to the end which is typically indicated with a NULL.\n",
    "\n",
    "If you want, you can make a circular list, this doesn't happen much in practice.  \n",
    "\n",
    "We can define general functions to append items to the list, or remove them, following a standard pattern.\n"
   ]
  },
  {
   "cell_type": "code",
   "execution_count": 17,
   "id": "c6cb7a63",
   "metadata": {},
   "outputs": [],
   "source": [
    "LISTABLE_INT *prependListableInt( LISTABLE_INT *listHead, LISTABLE_INT *newItem){\n",
    "    //adding an item to the front of a list of listable ints is pretty easy  \n",
    "    newItem->next = listHead;\n",
    "    return( newItem ); //newItem is the new head of the list\n",
    "}"
   ]
  },
  {
   "cell_type": "code",
   "execution_count": 19,
   "id": "0ab74b37",
   "metadata": {},
   "outputs": [],
   "source": [
    "void printIntList( LISTABLE_INT *listHead ){\n",
    "    //looping over a list in order is pretty easy too\n",
    "    //although this code will run forever if there is no NULL terminator.\n",
    "    LISTABLE_INT *li;\n",
    "    int            i;\n",
    "    li = listHead;\n",
    "    i  = 0;\n",
    "    while( li != NULL ){\n",
    "        printf(\"listItem %i is : %i\\n\", i++, li->val);\n",
    "        li   = li->next;\n",
    "    }\n",
    "    printf(\"\\n\");\n",
    "}"
   ]
  },
  {
   "cell_type": "markdown",
   "id": "69ce1fab",
   "metadata": {},
   "source": [
    "To show you how to use lists in practice I am going to give some example code."
   ]
  },
  {
   "cell_type": "code",
   "execution_count": 20,
   "id": "bfe22f54",
   "metadata": {},
   "outputs": [
    {
     "name": "stdout",
     "output_type": "stream",
     "text": [
      "listItem 0 is : 9\n",
      "listItem 1 is : 8\n",
      "listItem 2 is : 7\n",
      "listItem 3 is : 6\n",
      "listItem 4 is : 5\n",
      "listItem 5 is : 4\n",
      "listItem 6 is : 3\n",
      "listItem 7 is : 2\n",
      "listItem 8 is : 1\n",
      "listItem 9 is : 0\n",
      "\n"
     ]
    }
   ],
   "source": [
    "int main(void){\n",
    "    \n",
    "    LISTABLE_INT *li, *listHead;\n",
    "    int           i;\n",
    "    \n",
    "    //start with an empty list\n",
    "    listHead = NULL;\n",
    "    \n",
    "    //build it up\n",
    "    for( i = 0; i < 10; i++ ){\n",
    "        \n",
    "        //create a listable int\n",
    "        li = (LISTABLE_INT *)malloc(sizeof(LISTABLE_INT));\n",
    "        li->val  = i;\n",
    "        li->next = NULL;\n",
    "        \n",
    "        //put at the head of the list, new head is li.\n",
    "        listHead = prependListableInt(listHead, li);\n",
    "    }\n",
    "    \n",
    "    //print it out\n",
    "    printIntList( listHead );\n",
    "    return( EXIT_SUCCESS );\n",
    "}\n",
    "\n",
    "main();"
   ]
  },
  {
   "cell_type": "markdown",
   "id": "e81dfd39",
   "metadata": {},
   "source": [
    "The list is built up by adding things to the front.  You can think of it as a \"stack\": the most recently added item is easiest to find or remove."
   ]
  },
  {
   "cell_type": "markdown",
   "id": "73aa6c98",
   "metadata": {},
   "source": [
    "## Assignment, week 03 : Working with Linked Lists\n"
   ]
  },
  {
   "cell_type": "markdown",
   "id": "d8c88d8e",
   "metadata": {},
   "source": [
    "Write functions which can do the following, and use the printIntList() function to show that they are working:\n",
    "\n",
    "1) Find the back end of the list and add an item there.\n",
    "\n",
    "2) Create an item with a randomly defined integer \"val\" and insert it to the list such that the \"val\" field is not numerically greater than the \"val\" of the next item after it, if there is an item after it.  For now you can use the (weak) random number generator from stdlib, called \"rand()\". \n",
    "\n",
    "3) Find any/all items with a given \"val\" field and remove them from the list, preserving the list integrity.\n",
    "\n",
    "4) Assuming that you were to use your function defined in (2) to sort an array of random integers, what is the average number of comparisons made to sort $N$ integers?\n"
   ]
  },
  {
   "cell_type": "code",
   "execution_count": null,
   "id": "87edab51",
   "metadata": {},
   "outputs": [],
   "source": []
  }
 ],
 "metadata": {
  "kernelspec": {
   "display_name": "C++11",
   "language": "C++11",
   "name": "xcpp11"
  },
  "language_info": {
   "codemirror_mode": "text/x-c++src",
   "file_extension": ".cpp",
   "mimetype": "text/x-c++src",
   "name": "c++",
   "version": "11"
  }
 },
 "nbformat": 4,
 "nbformat_minor": 5
}
