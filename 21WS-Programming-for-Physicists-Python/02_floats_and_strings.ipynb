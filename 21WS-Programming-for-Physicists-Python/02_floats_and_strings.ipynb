{
 "cells": [
  {
   "cell_type": "markdown",
   "id": "1908f12d",
   "metadata": {},
   "source": [
    "## Question 1"
   ]
  },
  {
   "cell_type": "code",
   "execution_count": 53,
   "id": "8bb1f334",
   "metadata": {},
   "outputs": [
    {
     "name": "stdout",
     "output_type": "stream",
     "text": [
      "max float number\n",
      "1.7976931348623157e+308\n",
      "\n",
      "max float number + 1\n",
      "1.7976931348623157e+308\n",
      "\n",
      "max float number * 1,1\n",
      "inf\n"
     ]
    }
   ],
   "source": [
    "import sys\n",
    "import numpy as  np\n",
    "\n",
    "print('max float number')\n",
    "print(sys.float_info.max)\n",
    "print()\n",
    "\n",
    "print('max float number + 1')\n",
    "print(sys.float_info.max + 1.)\n",
    "print()\n",
    "\n",
    "print('max float number * 1,1')\n",
    "print(sys.float_info.max * 1.1)"
   ]
  },
  {
   "cell_type": "markdown",
   "id": "9995a36b",
   "metadata": {},
   "source": [
    "## Question 2"
   ]
  },
  {
   "cell_type": "code",
   "execution_count": null,
   "id": "fc0c5380",
   "metadata": {},
   "outputs": [],
   "source": [
    "import numpy as np\n",
    "import sys\n",
    "\n",
    "## declaring x\n",
    "x = 0.\n",
    "\n",
    "## declaring y, sys.float_info.epsilon gives the smallest interval between 2 floats\n",
    "y1 = sys.float_info.epsilon \n",
    "y2 = sys.float_info.epsilon / 2 ## slightly smaller\n",
    "y3 = sys.float_info.epsilon * 2 ## slightly larger\n",
    "\n",
    "## computing smallest substraction from zero\n",
    "z1 = x - y1 ## this is our hypothetical smallest substraction\n",
    "z2 = x - y2\n",
    "z3 = x - y3\n",
    "\n",
    "## gimmme gimme some output\n",
    "print (\"x = \" , x)\n",
    "print(\"epsilon = \" , y)\n",
    "print(\"x - epsilon = %.48e\" %z1) \n",
    "print(\"x - epsilon / 2 = %.48e\" %z2)\n",
    "print(\"x - epsilon * 2 = %.48e\" %z3)\n",
    "print()\n",
    "\n",
    "## checking if difference is positive or negative to see which is greater\n",
    "diff1 = z1 - z2\n",
    "diff2 = z1 - z3\n",
    "\n",
    "print(\"diff1 = \" , diff1)\n",
    "print(\"diff2 = \" , diff2)\n",
    "print()\n",
    "\n",
    "## maybe it would be possible to write a loop that tries to approach this value both from the right and from the left \n",
    "## which would maybe be doable with sys.float_info.epsilon * i \n",
    "\n",
    "for i in range(1,16,1):\n",
    "    print(\"%.8e\" %(z1 - (sys.float_info.epsilon * i)) , \"\\t\" , \"%.8e\" %(z1 - (sys.float_info.epsilon / i)))\n",
    "\n",
    "print()  \n",
    "print(\"we always get negative values, which means z1 is always smaller than z2 or z3, no matter how bigger/smaller\")"
   ]
  },
  {
   "cell_type": "markdown",
   "id": "394616a6",
   "metadata": {},
   "source": [
    "## Question 3"
   ]
  },
  {
   "cell_type": "code",
   "execution_count": 92,
   "id": "6858a29f",
   "metadata": {},
   "outputs": [
    {
     "name": "stdout",
     "output_type": "stream",
     "text": [
      "Sacré Bleu\n",
      "Sacré bleu the German keyboard is powerful!\n"
     ]
    }
   ],
   "source": [
    "## s is the string I want to print, and é = \\u00E9 in unicode\n",
    "s = u\"Sacr\\u00E9 Bleu\"\n",
    "s2 = \"Sacré bleu\"\n",
    "\n",
    "print(s)\n",
    "print(s2,\"the German keyboard is powerful!\")"
   ]
  },
  {
   "cell_type": "code",
   "execution_count": null,
   "id": "1110b4b1",
   "metadata": {},
   "outputs": [],
   "source": []
  }
 ],
 "metadata": {
  "kernelspec": {
   "display_name": "Python 3",
   "language": "python",
   "name": "python3"
  },
  "language_info": {
   "codemirror_mode": {
    "name": "ipython",
    "version": 3
   },
   "file_extension": ".py",
   "mimetype": "text/x-python",
   "name": "python",
   "nbconvert_exporter": "python",
   "pygments_lexer": "ipython3",
   "version": "3.8.8"
  }
 },
 "nbformat": 4,
 "nbformat_minor": 5
}
