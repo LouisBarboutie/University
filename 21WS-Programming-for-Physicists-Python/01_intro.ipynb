{
 "cells": [
  {
   "cell_type": "markdown",
   "id": "8b4fba2e",
   "metadata": {},
   "source": [
    "## First Question"
   ]
  },
  {
   "cell_type": "code",
   "execution_count": 1,
   "id": "f1a24262",
   "metadata": {},
   "outputs": [
    {
     "name": "stdout",
     "output_type": "stream",
     "text": [
      "12.041594578792296\n"
     ]
    }
   ],
   "source": [
    "import numpy as np\n",
    "\n",
    "a = 8\n",
    "b = 9\n",
    "\n",
    "c = np.sqrt(a ** 2 + b ** 2)\n",
    "\n",
    "print(c)"
   ]
  },
  {
   "cell_type": "markdown",
   "id": "7ba091ac",
   "metadata": {},
   "source": [
    "## Second Question"
   ]
  },
  {
   "cell_type": "code",
   "execution_count": 1,
   "id": "4201d074",
   "metadata": {},
   "outputs": [
    {
     "name": "stdout",
     "output_type": "stream",
     "text": [
      "61\n"
     ]
    }
   ],
   "source": [
    "import numpy as np\n",
    "\n",
    "epsilon = np.random.randint(0, 100)\n",
    "\n",
    "print(epsilon)"
   ]
  },
  {
   "cell_type": "markdown",
   "id": "650c4c0b",
   "metadata": {},
   "source": [
    "## Third Question"
   ]
  },
  {
   "cell_type": "code",
   "execution_count": 1,
   "id": "6ea4ad6d",
   "metadata": {},
   "outputs": [
    {
     "name": "stdout",
     "output_type": "stream",
     "text": [
      "[ 45.         -63.43494882]\n"
     ]
    }
   ],
   "source": [
    "import numpy as np\n",
    "\n",
    "# prints out both angles directly into an array\n",
    "\n",
    "x = np.array([1.,0.5])\n",
    "y = np.array([1.,-1.])\n",
    "\n",
    "angle = np.arctan2(y,x)* 180 / np.pi\n",
    "\n",
    "print(angle)"
   ]
  },
  {
   "cell_type": "code",
   "execution_count": null,
   "id": "52bbb3b9",
   "metadata": {},
   "outputs": [],
   "source": []
  }
 ],
 "metadata": {
  "kernelspec": {
   "display_name": "Python 3",
   "language": "python",
   "name": "python3"
  },
  "language_info": {
   "codemirror_mode": {
    "name": "ipython",
    "version": 3
   },
   "file_extension": ".py",
   "mimetype": "text/x-python",
   "name": "python",
   "nbconvert_exporter": "python",
   "pygments_lexer": "ipython3",
   "version": "3.8.8"
  }
 },
 "nbformat": 4,
 "nbformat_minor": 5
}
